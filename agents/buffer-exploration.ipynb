{
 "cells": [
  {
   "cell_type": "code",
   "execution_count": 1,
   "metadata": {
    "collapsed": true
   },
   "outputs": [
    {
     "name": "stderr",
     "output_type": "stream",
     "text": [
      " 11%|█         | 1000/8928 [00:58<07:40, 17.23it/s]\n"
     ]
    }
   ],
   "source": [
    "from agents.forward_backward.replay_buffer import FBReplayBuffer\n",
    "from agents.utils import set_seed_everywhere\n",
    "import warnings\n",
    "from pathlib import Path\n",
    "import yaml\n",
    "from dm_control import suite\n",
    "import torch\n",
    "\n",
    "warnings.filterwarnings(\"ignore\", category=DeprecationWarning)\n",
    "working_dir = Path.cwd().parent\n",
    "config_path = working_dir / \"agents\" / \"forward_backward\" / \"config.yaml\"\n",
    "model_path = working_dir / \"agents\" / \"forward_backward\" / \"saved_models\"\n",
    "\n",
    "with open(config_path, \"rb\") as f:\n",
    "    config = yaml.safe_load(f)\n",
    "\n",
    "set_seed_everywhere(config[\"seed\"])\n",
    "data_dir = (\n",
    "    working_dir\n",
    "    / \"datasets\"\n",
    "    / config[\"domain_name\"]\n",
    "    / config[\"exploration_algorithm\"]\n",
    "    / \"buffer\"\n",
    ")\n",
    "\n",
    "env = suite.load(\n",
    "    domain_name=config[\"domain_name\"],\n",
    "    task_name=config[\"task_name\"],\n",
    "    task_kwargs={\"random\": config[\"seed\"]},\n",
    ")\n",
    "\n",
    "replay_buffer = FBReplayBuffer(\n",
    "    env=env,\n",
    "    data_dir=data_dir,\n",
    "    max_episodes=1000,\n",
    "    discount=0.99,\n",
    "    shuffle_data_across_episodes=True,\n",
    "    device=torch.device(\"cpu\"),\n",
    ")"
   ]
  },
  {
   "cell_type": "code",
   "execution_count": 11,
   "outputs": [
    {
     "data": {
      "text/plain": "dict_keys(['observation', 'action', 'reward', 'discount', 'physics', 'skill'])"
     },
     "execution_count": 11,
     "metadata": {},
     "output_type": "execute_result"
    }
   ],
   "source": [
    "replay_buffer.storage.keys()"
   ],
   "metadata": {
    "collapsed": false,
    "ExecuteTime": {
     "end_time": "2023-05-19T11:21:13.274508Z",
     "start_time": "2023-05-19T11:21:13.269260Z"
    }
   }
  },
  {
   "cell_type": "code",
   "execution_count": 15,
   "outputs": [
    {
     "data": {
      "text/plain": "array([[ 0.84898543, -0.23791558, -0.96012914, -0.999999  , -0.94315654,\n        -0.68368876],\n       [-0.1374791 , -0.22520307, -0.999999  , -0.94550586, -0.9208139 ,\n         0.6910253 ],\n       [ 0.7811452 ,  0.5230211 , -0.61812615, -0.05428113,  0.999999  ,\n         0.33884507],\n       ...,\n       [-0.74251556,  0.9129435 , -0.28740636, -0.4348122 , -0.3442296 ,\n         0.508444  ],\n       [ 0.32568395,  0.3202653 ,  0.4224036 , -0.24123122, -0.26647812,\n         0.45888558],\n       [-0.8553836 , -0.41908494, -0.47923994,  0.5223094 , -0.20252648,\n        -0.3121467 ]], dtype=float32)"
     },
     "execution_count": 15,
     "metadata": {},
     "output_type": "execute_result"
    }
   ],
   "source": [
    "replay_buffer.storage[\"observation\"][0]"
   ],
   "metadata": {
    "collapsed": false,
    "ExecuteTime": {
     "end_time": "2023-05-19T11:24:09.294523Z",
     "start_time": "2023-05-19T11:24:09.261686Z"
    }
   }
  },
  {
   "cell_type": "code",
   "execution_count": 3,
   "outputs": [
    {
     "data": {
      "text/plain": "True"
     },
     "execution_count": 3,
     "metadata": {},
     "output_type": "execute_result"
    }
   ],
   "source": [
    "torch.backends.mps.is_available()"
   ],
   "metadata": {
    "collapsed": false,
    "ExecuteTime": {
     "end_time": "2023-05-17T15:58:32.456663Z",
     "start_time": "2023-05-17T15:58:32.443551Z"
    }
   }
  },
  {
   "cell_type": "code",
   "execution_count": 6,
   "outputs": [],
   "source": [
    "import wandb\n",
    "# Initialize wandb run\n",
    "agent = torch.load(\"forward_backward/saved_models/forward_backward_long.pickle\")"
   ],
   "metadata": {
    "collapsed": false,
    "ExecuteTime": {
     "end_time": "2023-05-18T13:31:15.116018Z",
     "start_time": "2023-05-18T13:31:14.842281Z"
    }
   }
  },
  {
   "cell_type": "code",
   "execution_count": 7,
   "outputs": [
    {
     "data": {
      "text/plain": "FBAgent(\n  (FB): ForwardBackwardRepresentation(\n    (forward_representation): ForwardRepresentation(\n      (F1): ForwardModel(\n        (trunk): Sequential(\n          (0): Linear(in_features=1024, out_features=1024, bias=True)\n          (1): LayerNorm((1024,), eps=1e-05, elementwise_affine=True)\n          (2): Tanh()\n          (3): Linear(in_features=1024, out_features=1024, bias=True)\n          (4): ReLU()\n          (5): Linear(in_features=1024, out_features=50, bias=True)\n        )\n        (obs_action_preprocessor): AbstractPreprocessor(\n          (trunk): Sequential(\n            (0): Linear(in_features=30, out_features=1024, bias=True)\n            (1): LayerNorm((1024,), eps=1e-05, elementwise_affine=True)\n            (2): Tanh()\n            (3): Linear(in_features=1024, out_features=1024, bias=True)\n            (4): ReLU()\n            (5): Linear(in_features=1024, out_features=512, bias=True)\n          )\n        )\n        (obs_z_preprocessor): AbstractPreprocessor(\n          (trunk): Sequential(\n            (0): Linear(in_features=74, out_features=1024, bias=True)\n            (1): LayerNorm((1024,), eps=1e-05, elementwise_affine=True)\n            (2): Tanh()\n            (3): Linear(in_features=1024, out_features=1024, bias=True)\n            (4): ReLU()\n            (5): Linear(in_features=1024, out_features=512, bias=True)\n          )\n        )\n      )\n      (F2): ForwardModel(\n        (trunk): Sequential(\n          (0): Linear(in_features=1024, out_features=1024, bias=True)\n          (1): LayerNorm((1024,), eps=1e-05, elementwise_affine=True)\n          (2): Tanh()\n          (3): Linear(in_features=1024, out_features=1024, bias=True)\n          (4): ReLU()\n          (5): Linear(in_features=1024, out_features=50, bias=True)\n        )\n        (obs_action_preprocessor): AbstractPreprocessor(\n          (trunk): Sequential(\n            (0): Linear(in_features=30, out_features=1024, bias=True)\n            (1): LayerNorm((1024,), eps=1e-05, elementwise_affine=True)\n            (2): Tanh()\n            (3): Linear(in_features=1024, out_features=1024, bias=True)\n            (4): ReLU()\n            (5): Linear(in_features=1024, out_features=512, bias=True)\n          )\n        )\n        (obs_z_preprocessor): AbstractPreprocessor(\n          (trunk): Sequential(\n            (0): Linear(in_features=74, out_features=1024, bias=True)\n            (1): LayerNorm((1024,), eps=1e-05, elementwise_affine=True)\n            (2): Tanh()\n            (3): Linear(in_features=1024, out_features=1024, bias=True)\n            (4): ReLU()\n            (5): Linear(in_features=1024, out_features=512, bias=True)\n          )\n        )\n      )\n    )\n    (backward_representation): BackwardRepresentation(\n      (B): BackwardModel(\n        (trunk): Sequential(\n          (0): Linear(in_features=24, out_features=256, bias=True)\n          (1): LayerNorm((256,), eps=1e-05, elementwise_affine=True)\n          (2): Tanh()\n          (3): Linear(in_features=256, out_features=256, bias=True)\n          (4): ReLU()\n          (5): Linear(in_features=256, out_features=256, bias=True)\n          (6): ReLU()\n          (7): Linear(in_features=256, out_features=50, bias=True)\n        )\n      )\n    )\n    (forward_representation_target): ForwardRepresentation(\n      (F1): ForwardModel(\n        (trunk): Sequential(\n          (0): Linear(in_features=1024, out_features=1024, bias=True)\n          (1): LayerNorm((1024,), eps=1e-05, elementwise_affine=True)\n          (2): Tanh()\n          (3): Linear(in_features=1024, out_features=1024, bias=True)\n          (4): ReLU()\n          (5): Linear(in_features=1024, out_features=50, bias=True)\n        )\n        (obs_action_preprocessor): AbstractPreprocessor(\n          (trunk): Sequential(\n            (0): Linear(in_features=30, out_features=1024, bias=True)\n            (1): LayerNorm((1024,), eps=1e-05, elementwise_affine=True)\n            (2): Tanh()\n            (3): Linear(in_features=1024, out_features=1024, bias=True)\n            (4): ReLU()\n            (5): Linear(in_features=1024, out_features=512, bias=True)\n          )\n        )\n        (obs_z_preprocessor): AbstractPreprocessor(\n          (trunk): Sequential(\n            (0): Linear(in_features=74, out_features=1024, bias=True)\n            (1): LayerNorm((1024,), eps=1e-05, elementwise_affine=True)\n            (2): Tanh()\n            (3): Linear(in_features=1024, out_features=1024, bias=True)\n            (4): ReLU()\n            (5): Linear(in_features=1024, out_features=512, bias=True)\n          )\n        )\n      )\n      (F2): ForwardModel(\n        (trunk): Sequential(\n          (0): Linear(in_features=1024, out_features=1024, bias=True)\n          (1): LayerNorm((1024,), eps=1e-05, elementwise_affine=True)\n          (2): Tanh()\n          (3): Linear(in_features=1024, out_features=1024, bias=True)\n          (4): ReLU()\n          (5): Linear(in_features=1024, out_features=50, bias=True)\n        )\n        (obs_action_preprocessor): AbstractPreprocessor(\n          (trunk): Sequential(\n            (0): Linear(in_features=30, out_features=1024, bias=True)\n            (1): LayerNorm((1024,), eps=1e-05, elementwise_affine=True)\n            (2): Tanh()\n            (3): Linear(in_features=1024, out_features=1024, bias=True)\n            (4): ReLU()\n            (5): Linear(in_features=1024, out_features=512, bias=True)\n          )\n        )\n        (obs_z_preprocessor): AbstractPreprocessor(\n          (trunk): Sequential(\n            (0): Linear(in_features=74, out_features=1024, bias=True)\n            (1): LayerNorm((1024,), eps=1e-05, elementwise_affine=True)\n            (2): Tanh()\n            (3): Linear(in_features=1024, out_features=1024, bias=True)\n            (4): ReLU()\n            (5): Linear(in_features=1024, out_features=512, bias=True)\n          )\n        )\n      )\n    )\n    (backward_representation_target): BackwardRepresentation(\n      (B): BackwardModel(\n        (trunk): Sequential(\n          (0): Linear(in_features=24, out_features=256, bias=True)\n          (1): LayerNorm((256,), eps=1e-05, elementwise_affine=True)\n          (2): Tanh()\n          (3): Linear(in_features=256, out_features=256, bias=True)\n          (4): ReLU()\n          (5): Linear(in_features=256, out_features=256, bias=True)\n          (6): ReLU()\n          (7): Linear(in_features=256, out_features=50, bias=True)\n        )\n      )\n    )\n  )\n  (actor): ActorModel(\n    (actor): AbstractActor(\n      (trunk): Sequential(\n        (0): Linear(in_features=1024, out_features=1024, bias=True)\n        (1): LayerNorm((1024,), eps=1e-05, elementwise_affine=True)\n        (2): Tanh()\n        (3): Linear(in_features=1024, out_features=1024, bias=True)\n        (4): ReLU()\n        (5): Linear(in_features=1024, out_features=6, bias=True)\n      )\n    )\n    (obs_preprocessor): AbstractPreprocessor(\n      (trunk): Sequential(\n        (0): Linear(in_features=24, out_features=1024, bias=True)\n        (1): LayerNorm((1024,), eps=1e-05, elementwise_affine=True)\n        (2): Tanh()\n        (3): Linear(in_features=1024, out_features=1024, bias=True)\n        (4): ReLU()\n        (5): Linear(in_features=1024, out_features=512, bias=True)\n      )\n    )\n    (obs_z_preprocessor): AbstractPreprocessor(\n      (trunk): Sequential(\n        (0): Linear(in_features=74, out_features=1024, bias=True)\n        (1): LayerNorm((1024,), eps=1e-05, elementwise_affine=True)\n        (2): Tanh()\n        (3): Linear(in_features=1024, out_features=1024, bias=True)\n        (4): ReLU()\n        (5): Linear(in_features=1024, out_features=512, bias=True)\n      )\n    )\n  )\n  (encoder): Identity()\n  (augmentation): Identity()\n)"
     },
     "execution_count": 7,
     "metadata": {},
     "output_type": "execute_result"
    }
   ],
   "source": [
    "agent"
   ],
   "metadata": {
    "collapsed": false,
    "ExecuteTime": {
     "end_time": "2023-05-18T13:31:17.448809Z",
     "start_time": "2023-05-18T13:31:17.447460Z"
    }
   }
  }
 ],
 "metadata": {
  "kernelspec": {
   "display_name": "Python 3",
   "language": "python",
   "name": "python3"
  },
  "language_info": {
   "codemirror_mode": {
    "name": "ipython",
    "version": 2
   },
   "file_extension": ".py",
   "mimetype": "text/x-python",
   "name": "python",
   "nbconvert_exporter": "python",
   "pygments_lexer": "ipython2",
   "version": "2.7.6"
  }
 },
 "nbformat": 4,
 "nbformat_minor": 0
}
